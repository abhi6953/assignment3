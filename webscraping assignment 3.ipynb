{
 "cells": [
  {
   "cell_type": "code",
   "execution_count": 2,
   "metadata": {},
   "outputs": [],
   "source": [
    "import pandas as pd\n",
    "from bs4 import BeautifulSoup\n",
    "import selenium\n",
    "from selenium import webdriver\n",
    "from selenium.common.exceptions import StaleElementReferenceException, NoSuchElementException"
   ]
  },
  {
   "cell_type": "markdown",
   "metadata": {},
   "source": [
    "# question 3 assignment 3"
   ]
  },
  {
   "cell_type": "code",
   "execution_count": 3,
   "metadata": {},
   "outputs": [],
   "source": [
    "driver=webdriver.Chrome(executable_path='C:/chromedriver/chromedriver.exe')"
   ]
  },
  {
   "cell_type": "code",
   "execution_count": 4,
   "metadata": {},
   "outputs": [],
   "source": [
    "driver.get('https://www.google.com/imghp?hl=en')"
   ]
  },
  {
   "cell_type": "code",
   "execution_count": 5,
   "metadata": {},
   "outputs": [],
   "source": [
    "searchbar=driver.find_element_by_xpath(\"//input[@class='gLFyf gsfi']\")\n",
    "searchbar.send_keys('fruits')\n",
    "button=driver.find_element_by_xpath(\"//span[@class='z1asCe MZy1Rb']\")\n",
    "button.click()"
   ]
  },
  {
   "cell_type": "code",
   "execution_count": 6,
   "metadata": {},
   "outputs": [],
   "source": [
    "image=[]"
   ]
  },
  {
   "cell_type": "code",
   "execution_count": 7,
   "metadata": {},
   "outputs": [
    {
     "data": {
      "text/plain": [
       "'data:image/jpeg;base64,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'"
      ]
     },
     "execution_count": 7,
     "metadata": {},
     "output_type": "execute_result"
    }
   ],
   "source": [
    "soup = BeautifulSoup(driver.page_source, 'html.parser')\n",
    "img = soup.find('img', attrs = {'class':'rg_i Q4LuWd'})\n",
    "img.get('src')"
   ]
  },
  {
   "cell_type": "code",
   "execution_count": 8,
   "metadata": {},
   "outputs": [],
   "source": [
    "img.get('href')"
   ]
  },
  {
   "cell_type": "markdown",
   "metadata": {},
   "source": [
    "i am not able to extract images in this exercise."
   ]
  },
  {
   "cell_type": "markdown",
   "metadata": {},
   "source": [
    "# question4 assignment 3"
   ]
  },
  {
   "cell_type": "code",
   "execution_count": 21,
   "metadata": {},
   "outputs": [],
   "source": [
    "driver2=webdriver.Chrome(executable_path='C:/chromedriver/chromedriver.exe')"
   ]
  },
  {
   "cell_type": "code",
   "execution_count": 22,
   "metadata": {},
   "outputs": [],
   "source": [
    "driver2.get('https://www.flipkart.com/')"
   ]
  },
  {
   "cell_type": "code",
   "execution_count": 23,
   "metadata": {},
   "outputs": [],
   "source": [
    "search=driver2.find_element_by_xpath(\"//div[@id='container']/div/div[1]/div[1]/div[2]/div[2]/form/div/div/input\")\n",
    "search.send_keys('Oneplus 7')\n",
    "button=driver2.find_element_by_xpath(\"//div[@id='container']/div/div[1]/div[1]/div[2]/div[2]/form/div/button\")\n",
    "button.click()"
   ]
  },
  {
   "cell_type": "code",
   "execution_count": 24,
   "metadata": {},
   "outputs": [],
   "source": [
    "brandname=[]\n",
    "price=[]\n",
    "rating=[]\n",
    "features=[]"
   ]
  },
  {
   "cell_type": "code",
   "execution_count": 29,
   "metadata": {},
   "outputs": [
    {
     "data": {
      "text/plain": [
       "40"
      ]
     },
     "execution_count": 29,
     "metadata": {},
     "output_type": "execute_result"
    }
   ],
   "source": [
    "brand=driver2.find_elements_by_xpath(\"//div[@class='_4rR01T']\")\n",
    "len(brand)"
   ]
  },
  {
   "cell_type": "code",
   "execution_count": 32,
   "metadata": {},
   "outputs": [],
   "source": [
    "for i in brand:\n",
    "    brandname.append(i.text)"
   ]
  },
  {
   "cell_type": "code",
   "execution_count": 33,
   "metadata": {},
   "outputs": [
    {
     "data": {
      "text/plain": [
       "40"
      ]
     },
     "execution_count": 33,
     "metadata": {},
     "output_type": "execute_result"
    }
   ],
   "source": [
    "p_tag=driver2.find_elements_by_xpath(\"//div[@class='_30jeq3 _1_WHN1']\")\n",
    "len(p_tag)"
   ]
  },
  {
   "cell_type": "code",
   "execution_count": 34,
   "metadata": {},
   "outputs": [],
   "source": [
    "for i in p_tag:\n",
    "    price.append(i.text)"
   ]
  },
  {
   "cell_type": "code",
   "execution_count": 35,
   "metadata": {},
   "outputs": [
    {
     "data": {
      "text/plain": [
       "40"
      ]
     },
     "execution_count": 35,
     "metadata": {},
     "output_type": "execute_result"
    }
   ],
   "source": [
    "r_tag=driver2.find_elements_by_xpath(\"//span[@class='_2_R_DZ']\")\n",
    "len(r_tag)"
   ]
  },
  {
   "cell_type": "code",
   "execution_count": 36,
   "metadata": {},
   "outputs": [],
   "source": [
    "for i in r_tag:\n",
    "    rating.append(i.text)"
   ]
  },
  {
   "cell_type": "code",
   "execution_count": 37,
   "metadata": {},
   "outputs": [
    {
     "data": {
      "text/plain": [
       "40"
      ]
     },
     "execution_count": 37,
     "metadata": {},
     "output_type": "execute_result"
    }
   ],
   "source": [
    "f_tag=driver2.find_elements_by_xpath(\"//div[@class='fMghEO']\")\n",
    "len(f_tag)"
   ]
  },
  {
   "cell_type": "code",
   "execution_count": 38,
   "metadata": {},
   "outputs": [],
   "source": [
    "for i in f_tag:\n",
    "    features.append(i.text)"
   ]
  },
  {
   "cell_type": "code",
   "execution_count": 40,
   "metadata": {},
   "outputs": [],
   "source": [
    "product=pd.DataFrame({'product_name':brandname[0:20],'price':price[0:20],'ratings':rating[0:20],'specifications':features[0:20]})"
   ]
  },
  {
   "cell_type": "code",
   "execution_count": 41,
   "metadata": {},
   "outputs": [
    {
     "data": {
      "text/html": [
       "<div>\n",
       "<style scoped>\n",
       "    .dataframe tbody tr th:only-of-type {\n",
       "        vertical-align: middle;\n",
       "    }\n",
       "\n",
       "    .dataframe tbody tr th {\n",
       "        vertical-align: top;\n",
       "    }\n",
       "\n",
       "    .dataframe thead th {\n",
       "        text-align: right;\n",
       "    }\n",
       "</style>\n",
       "<table border=\"1\" class=\"dataframe\">\n",
       "  <thead>\n",
       "    <tr style=\"text-align: right;\">\n",
       "      <th></th>\n",
       "      <th>product_name</th>\n",
       "      <th>price</th>\n",
       "      <th>ratings</th>\n",
       "      <th>specifications</th>\n",
       "    </tr>\n",
       "  </thead>\n",
       "  <tbody>\n",
       "    <tr>\n",
       "      <th>0</th>\n",
       "      <td>OnePlus Y Series 108 cm (43 inch) Full HD LED ...</td>\n",
       "      <td>₹25,999</td>\n",
       "      <td>12,313 Ratings &amp; 1,104 Reviews</td>\n",
       "      <td>Netflix|Prime Video|Disney+Hotstar|Youtube\\nOp...</td>\n",
       "    </tr>\n",
       "    <tr>\n",
       "      <th>1</th>\n",
       "      <td>OnePlus Y Series 80 cm (32 inch) HD Ready LED ...</td>\n",
       "      <td>₹15,999</td>\n",
       "      <td>12,313 Ratings &amp; 1,104 Reviews</td>\n",
       "      <td>Netflix|Prime Video|Disney+Hotstar|Youtube\\nOp...</td>\n",
       "    </tr>\n",
       "    <tr>\n",
       "      <th>2</th>\n",
       "      <td>OnePlus U Series 138.8 cm (55 inch) Ultra HD (...</td>\n",
       "      <td>₹52,999</td>\n",
       "      <td>39 Ratings &amp; 6 Reviews</td>\n",
       "      <td>Netflix|Prime Video|Disney+Hotstar|Youtube\\nOp...</td>\n",
       "    </tr>\n",
       "    <tr>\n",
       "      <th>3</th>\n",
       "      <td>OnePlus Bullets Wireless Z Bass Edition Blueto...</td>\n",
       "      <td>₹1,999</td>\n",
       "      <td>57,396 Ratings &amp; 6,151 Reviews</td>\n",
       "      <td>With Mic:Yes\\nBluetooth version: 5\\nThe Bass E...</td>\n",
       "    </tr>\n",
       "    <tr>\n",
       "      <th>4</th>\n",
       "      <td>OnePlus Bullets Wireless Z Bluetooth Headset</td>\n",
       "      <td>₹1,999</td>\n",
       "      <td>2,23,430 Ratings &amp; 23,959 Reviews</td>\n",
       "      <td>With Mic:Yes\\nBluetooth version: 5\\nWireless r...</td>\n",
       "    </tr>\n",
       "    <tr>\n",
       "      <th>5</th>\n",
       "      <td>OnePlus Buds Z Bluetooth Headset</td>\n",
       "      <td>₹2,999</td>\n",
       "      <td>12,952 Ratings &amp; 1,432 Reviews</td>\n",
       "      <td>With Mic:Yes\\nBluetooth version: 5\\n10mm dynam...</td>\n",
       "    </tr>\n",
       "    <tr>\n",
       "      <th>6</th>\n",
       "      <td>OnePlus 10000 mAh Power Bank (Fast Charging, 1...</td>\n",
       "      <td>₹1,099</td>\n",
       "      <td>5,231 Ratings &amp; 367 Reviews</td>\n",
       "      <td>Weight: 225.5 g | Capacity: 10000 mAh\\nLithium...</td>\n",
       "    </tr>\n",
       "    <tr>\n",
       "      <th>7</th>\n",
       "      <td>OnePlus Band</td>\n",
       "      <td>₹2,499</td>\n",
       "      <td>5,556 Ratings &amp; 937 Reviews</td>\n",
       "      <td>Dual Color Band Strap &amp; 1.1 inch AMOLED Displa...</td>\n",
       "    </tr>\n",
       "    <tr>\n",
       "      <th>8</th>\n",
       "      <td>Flipkart SmartBuy Edge To Edge Tempered Glass ...</td>\n",
       "      <td>₹199</td>\n",
       "      <td>656 Ratings &amp; 88 Reviews</td>\n",
       "      <td>Scratch Resistant\\nMobile\\nEdge To Edge Temper...</td>\n",
       "    </tr>\n",
       "    <tr>\n",
       "      <th>9</th>\n",
       "      <td>OnePlus Buds Bluetooth Headset</td>\n",
       "      <td>₹4,990</td>\n",
       "      <td>15,303 Ratings &amp; 1,695 Reviews</td>\n",
       "      <td>With Mic:Yes\\nBluetooth version: 5\\n30 hours o...</td>\n",
       "    </tr>\n",
       "    <tr>\n",
       "      <th>10</th>\n",
       "      <td>OnePlus Buds Z Bluetooth Headset</td>\n",
       "      <td>₹2,999</td>\n",
       "      <td>12,952 Ratings &amp; 1,432 Reviews</td>\n",
       "      <td>With Mic:Yes\\nBluetooth version: 5\\n10mm dynam...</td>\n",
       "    </tr>\n",
       "    <tr>\n",
       "      <th>11</th>\n",
       "      <td>OnePlus Buds Bluetooth Headset</td>\n",
       "      <td>₹4,990</td>\n",
       "      <td>15,303 Ratings &amp; 1,695 Reviews</td>\n",
       "      <td>With Mic:Yes\\nBluetooth version: 5\\n30 hours o...</td>\n",
       "    </tr>\n",
       "    <tr>\n",
       "      <th>12</th>\n",
       "      <td>Case U Edge To Edge Tempered Glass for OnePlus...</td>\n",
       "      <td>₹499</td>\n",
       "      <td>2,101 Ratings &amp; 313 Reviews</td>\n",
       "      <td>3D Tempered Glass, UV Protection, Anti Glare, ...</td>\n",
       "    </tr>\n",
       "    <tr>\n",
       "      <th>13</th>\n",
       "      <td>Flipkart SmartBuy Edge To Edge Tempered Glass ...</td>\n",
       "      <td>₹199</td>\n",
       "      <td>225 Ratings &amp; 16 Reviews</td>\n",
       "      <td>Scratch Resistant\\nMobile\\nEdge To Edge Temper...</td>\n",
       "    </tr>\n",
       "    <tr>\n",
       "      <th>14</th>\n",
       "      <td>Mobile Mart Back Cover for OnePlus Nord</td>\n",
       "      <td>₹259</td>\n",
       "      <td>501 Ratings &amp; 42 Reviews</td>\n",
       "      <td>Suitable For: Mobile\\nMaterial: Polycarbonate,...</td>\n",
       "    </tr>\n",
       "    <tr>\n",
       "      <th>15</th>\n",
       "      <td>KARWAN Back Cover for OnePlus 8T</td>\n",
       "      <td>₹499</td>\n",
       "      <td>56 Ratings &amp; 7 Reviews</td>\n",
       "      <td>Suitable For: Mobile\\nMaterial: Silicon\\nTheme...</td>\n",
       "    </tr>\n",
       "    <tr>\n",
       "      <th>16</th>\n",
       "      <td>Mobile Mart Back Cover for OnePlus 7</td>\n",
       "      <td>₹259</td>\n",
       "      <td>1,052 Ratings &amp; 98 Reviews</td>\n",
       "      <td>Suitable For: Mobile\\nMaterial: Polycarbonate,...</td>\n",
       "    </tr>\n",
       "    <tr>\n",
       "      <th>17</th>\n",
       "      <td>Gorilla Armour Edge To Edge Tempered Glass for...</td>\n",
       "      <td>₹211</td>\n",
       "      <td>688 Ratings &amp; 79 Reviews</td>\n",
       "      <td>Scratch Resistant, 6D Tempered Glass, Air-bubb...</td>\n",
       "    </tr>\n",
       "    <tr>\n",
       "      <th>18</th>\n",
       "      <td>KWINE CASE Back Cover for OnePlus 8T</td>\n",
       "      <td>₹259</td>\n",
       "      <td>131 Ratings &amp; 12 Reviews</td>\n",
       "      <td>Suitable For: Mobile\\nMaterial: Plastic\\nTheme...</td>\n",
       "    </tr>\n",
       "    <tr>\n",
       "      <th>19</th>\n",
       "      <td>Tdoc Wall Charger Accessory Combo for One_plus...</td>\n",
       "      <td>₹599</td>\n",
       "      <td>94 Ratings &amp; 20 Reviews</td>\n",
       "      <td>Pack of 2\\nWhite\\nFor One_plus 5, 5T, 6, 6T,7,...</td>\n",
       "    </tr>\n",
       "  </tbody>\n",
       "</table>\n",
       "</div>"
      ],
      "text/plain": [
       "                                         product_name    price  \\\n",
       "0   OnePlus Y Series 108 cm (43 inch) Full HD LED ...  ₹25,999   \n",
       "1   OnePlus Y Series 80 cm (32 inch) HD Ready LED ...  ₹15,999   \n",
       "2   OnePlus U Series 138.8 cm (55 inch) Ultra HD (...  ₹52,999   \n",
       "3   OnePlus Bullets Wireless Z Bass Edition Blueto...   ₹1,999   \n",
       "4        OnePlus Bullets Wireless Z Bluetooth Headset   ₹1,999   \n",
       "5                    OnePlus Buds Z Bluetooth Headset   ₹2,999   \n",
       "6   OnePlus 10000 mAh Power Bank (Fast Charging, 1...   ₹1,099   \n",
       "7                                        OnePlus Band   ₹2,499   \n",
       "8   Flipkart SmartBuy Edge To Edge Tempered Glass ...     ₹199   \n",
       "9                      OnePlus Buds Bluetooth Headset   ₹4,990   \n",
       "10                   OnePlus Buds Z Bluetooth Headset   ₹2,999   \n",
       "11                     OnePlus Buds Bluetooth Headset   ₹4,990   \n",
       "12  Case U Edge To Edge Tempered Glass for OnePlus...     ₹499   \n",
       "13  Flipkart SmartBuy Edge To Edge Tempered Glass ...     ₹199   \n",
       "14            Mobile Mart Back Cover for OnePlus Nord     ₹259   \n",
       "15                   KARWAN Back Cover for OnePlus 8T     ₹499   \n",
       "16               Mobile Mart Back Cover for OnePlus 7     ₹259   \n",
       "17  Gorilla Armour Edge To Edge Tempered Glass for...     ₹211   \n",
       "18               KWINE CASE Back Cover for OnePlus 8T     ₹259   \n",
       "19  Tdoc Wall Charger Accessory Combo for One_plus...     ₹599   \n",
       "\n",
       "                              ratings  \\\n",
       "0      12,313 Ratings & 1,104 Reviews   \n",
       "1      12,313 Ratings & 1,104 Reviews   \n",
       "2              39 Ratings & 6 Reviews   \n",
       "3      57,396 Ratings & 6,151 Reviews   \n",
       "4   2,23,430 Ratings & 23,959 Reviews   \n",
       "5      12,952 Ratings & 1,432 Reviews   \n",
       "6         5,231 Ratings & 367 Reviews   \n",
       "7         5,556 Ratings & 937 Reviews   \n",
       "8            656 Ratings & 88 Reviews   \n",
       "9      15,303 Ratings & 1,695 Reviews   \n",
       "10     12,952 Ratings & 1,432 Reviews   \n",
       "11     15,303 Ratings & 1,695 Reviews   \n",
       "12        2,101 Ratings & 313 Reviews   \n",
       "13           225 Ratings & 16 Reviews   \n",
       "14           501 Ratings & 42 Reviews   \n",
       "15             56 Ratings & 7 Reviews   \n",
       "16         1,052 Ratings & 98 Reviews   \n",
       "17           688 Ratings & 79 Reviews   \n",
       "18           131 Ratings & 12 Reviews   \n",
       "19            94 Ratings & 20 Reviews   \n",
       "\n",
       "                                       specifications  \n",
       "0   Netflix|Prime Video|Disney+Hotstar|Youtube\\nOp...  \n",
       "1   Netflix|Prime Video|Disney+Hotstar|Youtube\\nOp...  \n",
       "2   Netflix|Prime Video|Disney+Hotstar|Youtube\\nOp...  \n",
       "3   With Mic:Yes\\nBluetooth version: 5\\nThe Bass E...  \n",
       "4   With Mic:Yes\\nBluetooth version: 5\\nWireless r...  \n",
       "5   With Mic:Yes\\nBluetooth version: 5\\n10mm dynam...  \n",
       "6   Weight: 225.5 g | Capacity: 10000 mAh\\nLithium...  \n",
       "7   Dual Color Band Strap & 1.1 inch AMOLED Displa...  \n",
       "8   Scratch Resistant\\nMobile\\nEdge To Edge Temper...  \n",
       "9   With Mic:Yes\\nBluetooth version: 5\\n30 hours o...  \n",
       "10  With Mic:Yes\\nBluetooth version: 5\\n10mm dynam...  \n",
       "11  With Mic:Yes\\nBluetooth version: 5\\n30 hours o...  \n",
       "12  3D Tempered Glass, UV Protection, Anti Glare, ...  \n",
       "13  Scratch Resistant\\nMobile\\nEdge To Edge Temper...  \n",
       "14  Suitable For: Mobile\\nMaterial: Polycarbonate,...  \n",
       "15  Suitable For: Mobile\\nMaterial: Silicon\\nTheme...  \n",
       "16  Suitable For: Mobile\\nMaterial: Polycarbonate,...  \n",
       "17  Scratch Resistant, 6D Tempered Glass, Air-bubb...  \n",
       "18  Suitable For: Mobile\\nMaterial: Plastic\\nTheme...  \n",
       "19  Pack of 2\\nWhite\\nFor One_plus 5, 5T, 6, 6T,7,...  "
      ]
     },
     "execution_count": 41,
     "metadata": {},
     "output_type": "execute_result"
    }
   ],
   "source": [
    "product"
   ]
  },
  {
   "cell_type": "markdown",
   "metadata": {},
   "source": [
    "# question 5 assignment 3"
   ]
  },
  {
   "cell_type": "code",
   "execution_count": 50,
   "metadata": {},
   "outputs": [],
   "source": [
    "driver3=webdriver.Chrome(executable_path='C:/chromedriver/chromedriver.exe')"
   ]
  },
  {
   "cell_type": "code",
   "execution_count": 51,
   "metadata": {},
   "outputs": [],
   "source": [
    "driver3.get('https://www.google.co.in/maps/@28.6184377,77.224112,10.67z')"
   ]
  },
  {
   "cell_type": "code",
   "execution_count": 52,
   "metadata": {},
   "outputs": [],
   "source": [
    "bar=driver3.find_element_by_xpath(\"//input[@class='tactile-searchbox-input']\")\n",
    "bar.send_keys('goa')\n",
    "barbutton=driver3.find_element_by_xpath(\"//div[@class='searchbox-searchbutton-container']\")\n",
    "barbutton.click()"
   ]
  },
  {
   "cell_type": "code",
   "execution_count": 53,
   "metadata": {},
   "outputs": [
    {
     "data": {
      "text/plain": [
       "'15.100410, 73.937223'"
      ]
     },
     "execution_count": 53,
     "metadata": {},
     "output_type": "execute_result"
    }
   ],
   "source": [
    "latitude_longitude=driver3.find_element_by_xpath(\"//button[@class='link-like widget-reveal-card-lat-lng']\")\n",
    "latitude_longitude.text"
   ]
  },
  {
   "cell_type": "markdown",
   "metadata": {},
   "source": [
    "# question 6 assignment 3"
   ]
  },
  {
   "cell_type": "code",
   "execution_count": 54,
   "metadata": {},
   "outputs": [],
   "source": [
    "driver4=webdriver.Chrome(executable_path='C:/chromedriver/chromedriver.exe')"
   ]
  },
  {
   "cell_type": "code",
   "execution_count": 55,
   "metadata": {},
   "outputs": [],
   "source": [
    "driver4.get('https://trak.in/india-startup-funding-investment-2015/')"
   ]
  },
  {
   "cell_type": "code",
   "execution_count": 56,
   "metadata": {},
   "outputs": [],
   "source": [
    "july=[]\n",
    "august=[]\n",
    "september=[]"
   ]
  },
  {
   "cell_type": "code",
   "execution_count": 63,
   "metadata": {},
   "outputs": [
    {
     "data": {
      "text/plain": [
       "\"Sr. No. Date (dd/mm/yyyy) Startup Name Industry / Vertical Sub-Vertical City / Location Investors' Name Investment Type Amount (In USD)\""
      ]
     },
     "execution_count": 63,
     "metadata": {},
     "output_type": "execute_result"
    }
   ],
   "source": [
    "julyy=driver4.find_element_by_xpath(\"//tr[@class='row-1 odd']\")\n",
    "julyy.text"
   ]
  },
  {
   "cell_type": "code",
   "execution_count": 66,
   "metadata": {},
   "outputs": [
    {
     "ename": "NoSuchElementException",
     "evalue": "Message: no such element: Unable to locate element: {\"method\":\"xpath\",\"selector\":\"//div[@id='tablepress-48']/tbody\"}\n  (Session info: chrome=88.0.4324.190)\n",
     "output_type": "error",
     "traceback": [
      "\u001b[1;31m---------------------------------------------------------------------------\u001b[0m",
      "\u001b[1;31mNoSuchElementException\u001b[0m                    Traceback (most recent call last)",
      "\u001b[1;32m<ipython-input-66-d1bd87f4770c>\u001b[0m in \u001b[0;36m<module>\u001b[1;34m\u001b[0m\n\u001b[1;32m----> 1\u001b[1;33m \u001b[0mbody\u001b[0m\u001b[1;33m=\u001b[0m\u001b[0mdriver4\u001b[0m\u001b[1;33m.\u001b[0m\u001b[0mfind_element_by_xpath\u001b[0m\u001b[1;33m(\u001b[0m\u001b[1;34m\"//div[@id='tablepress-48']/tbody\"\u001b[0m\u001b[1;33m)\u001b[0m\u001b[1;33m\u001b[0m\u001b[1;33m\u001b[0m\u001b[0m\n\u001b[0m\u001b[0;32m      2\u001b[0m \u001b[0mbody\u001b[0m\u001b[1;33m.\u001b[0m\u001b[0mtext\u001b[0m\u001b[1;33m\u001b[0m\u001b[1;33m\u001b[0m\u001b[0m\n",
      "\u001b[1;32mC:\\ProgramData\\Anaconda3\\lib\\site-packages\\selenium\\webdriver\\remote\\webdriver.py\u001b[0m in \u001b[0;36mfind_element_by_xpath\u001b[1;34m(self, xpath)\u001b[0m\n\u001b[0;32m    392\u001b[0m             \u001b[0melement\u001b[0m \u001b[1;33m=\u001b[0m \u001b[0mdriver\u001b[0m\u001b[1;33m.\u001b[0m\u001b[0mfind_element_by_xpath\u001b[0m\u001b[1;33m(\u001b[0m\u001b[1;34m'//div/td[1]'\u001b[0m\u001b[1;33m)\u001b[0m\u001b[1;33m\u001b[0m\u001b[1;33m\u001b[0m\u001b[0m\n\u001b[0;32m    393\u001b[0m         \"\"\"\n\u001b[1;32m--> 394\u001b[1;33m         \u001b[1;32mreturn\u001b[0m \u001b[0mself\u001b[0m\u001b[1;33m.\u001b[0m\u001b[0mfind_element\u001b[0m\u001b[1;33m(\u001b[0m\u001b[0mby\u001b[0m\u001b[1;33m=\u001b[0m\u001b[0mBy\u001b[0m\u001b[1;33m.\u001b[0m\u001b[0mXPATH\u001b[0m\u001b[1;33m,\u001b[0m \u001b[0mvalue\u001b[0m\u001b[1;33m=\u001b[0m\u001b[0mxpath\u001b[0m\u001b[1;33m)\u001b[0m\u001b[1;33m\u001b[0m\u001b[1;33m\u001b[0m\u001b[0m\n\u001b[0m\u001b[0;32m    395\u001b[0m \u001b[1;33m\u001b[0m\u001b[0m\n\u001b[0;32m    396\u001b[0m     \u001b[1;32mdef\u001b[0m \u001b[0mfind_elements_by_xpath\u001b[0m\u001b[1;33m(\u001b[0m\u001b[0mself\u001b[0m\u001b[1;33m,\u001b[0m \u001b[0mxpath\u001b[0m\u001b[1;33m)\u001b[0m\u001b[1;33m:\u001b[0m\u001b[1;33m\u001b[0m\u001b[1;33m\u001b[0m\u001b[0m\n",
      "\u001b[1;32mC:\\ProgramData\\Anaconda3\\lib\\site-packages\\selenium\\webdriver\\remote\\webdriver.py\u001b[0m in \u001b[0;36mfind_element\u001b[1;34m(self, by, value)\u001b[0m\n\u001b[0;32m    974\u001b[0m                 \u001b[0mby\u001b[0m \u001b[1;33m=\u001b[0m \u001b[0mBy\u001b[0m\u001b[1;33m.\u001b[0m\u001b[0mCSS_SELECTOR\u001b[0m\u001b[1;33m\u001b[0m\u001b[1;33m\u001b[0m\u001b[0m\n\u001b[0;32m    975\u001b[0m                 \u001b[0mvalue\u001b[0m \u001b[1;33m=\u001b[0m \u001b[1;34m'[name=\"%s\"]'\u001b[0m \u001b[1;33m%\u001b[0m \u001b[0mvalue\u001b[0m\u001b[1;33m\u001b[0m\u001b[1;33m\u001b[0m\u001b[0m\n\u001b[1;32m--> 976\u001b[1;33m         return self.execute(Command.FIND_ELEMENT, {\n\u001b[0m\u001b[0;32m    977\u001b[0m             \u001b[1;34m'using'\u001b[0m\u001b[1;33m:\u001b[0m \u001b[0mby\u001b[0m\u001b[1;33m,\u001b[0m\u001b[1;33m\u001b[0m\u001b[1;33m\u001b[0m\u001b[0m\n\u001b[0;32m    978\u001b[0m             'value': value})['value']\n",
      "\u001b[1;32mC:\\ProgramData\\Anaconda3\\lib\\site-packages\\selenium\\webdriver\\remote\\webdriver.py\u001b[0m in \u001b[0;36mexecute\u001b[1;34m(self, driver_command, params)\u001b[0m\n\u001b[0;32m    319\u001b[0m         \u001b[0mresponse\u001b[0m \u001b[1;33m=\u001b[0m \u001b[0mself\u001b[0m\u001b[1;33m.\u001b[0m\u001b[0mcommand_executor\u001b[0m\u001b[1;33m.\u001b[0m\u001b[0mexecute\u001b[0m\u001b[1;33m(\u001b[0m\u001b[0mdriver_command\u001b[0m\u001b[1;33m,\u001b[0m \u001b[0mparams\u001b[0m\u001b[1;33m)\u001b[0m\u001b[1;33m\u001b[0m\u001b[1;33m\u001b[0m\u001b[0m\n\u001b[0;32m    320\u001b[0m         \u001b[1;32mif\u001b[0m \u001b[0mresponse\u001b[0m\u001b[1;33m:\u001b[0m\u001b[1;33m\u001b[0m\u001b[1;33m\u001b[0m\u001b[0m\n\u001b[1;32m--> 321\u001b[1;33m             \u001b[0mself\u001b[0m\u001b[1;33m.\u001b[0m\u001b[0merror_handler\u001b[0m\u001b[1;33m.\u001b[0m\u001b[0mcheck_response\u001b[0m\u001b[1;33m(\u001b[0m\u001b[0mresponse\u001b[0m\u001b[1;33m)\u001b[0m\u001b[1;33m\u001b[0m\u001b[1;33m\u001b[0m\u001b[0m\n\u001b[0m\u001b[0;32m    322\u001b[0m             response['value'] = self._unwrap_value(\n\u001b[0;32m    323\u001b[0m                 response.get('value', None))\n",
      "\u001b[1;32mC:\\ProgramData\\Anaconda3\\lib\\site-packages\\selenium\\webdriver\\remote\\errorhandler.py\u001b[0m in \u001b[0;36mcheck_response\u001b[1;34m(self, response)\u001b[0m\n\u001b[0;32m    240\u001b[0m                 \u001b[0malert_text\u001b[0m \u001b[1;33m=\u001b[0m \u001b[0mvalue\u001b[0m\u001b[1;33m[\u001b[0m\u001b[1;34m'alert'\u001b[0m\u001b[1;33m]\u001b[0m\u001b[1;33m.\u001b[0m\u001b[0mget\u001b[0m\u001b[1;33m(\u001b[0m\u001b[1;34m'text'\u001b[0m\u001b[1;33m)\u001b[0m\u001b[1;33m\u001b[0m\u001b[1;33m\u001b[0m\u001b[0m\n\u001b[0;32m    241\u001b[0m             \u001b[1;32mraise\u001b[0m \u001b[0mexception_class\u001b[0m\u001b[1;33m(\u001b[0m\u001b[0mmessage\u001b[0m\u001b[1;33m,\u001b[0m \u001b[0mscreen\u001b[0m\u001b[1;33m,\u001b[0m \u001b[0mstacktrace\u001b[0m\u001b[1;33m,\u001b[0m \u001b[0malert_text\u001b[0m\u001b[1;33m)\u001b[0m\u001b[1;33m\u001b[0m\u001b[1;33m\u001b[0m\u001b[0m\n\u001b[1;32m--> 242\u001b[1;33m         \u001b[1;32mraise\u001b[0m \u001b[0mexception_class\u001b[0m\u001b[1;33m(\u001b[0m\u001b[0mmessage\u001b[0m\u001b[1;33m,\u001b[0m \u001b[0mscreen\u001b[0m\u001b[1;33m,\u001b[0m \u001b[0mstacktrace\u001b[0m\u001b[1;33m)\u001b[0m\u001b[1;33m\u001b[0m\u001b[1;33m\u001b[0m\u001b[0m\n\u001b[0m\u001b[0;32m    243\u001b[0m \u001b[1;33m\u001b[0m\u001b[0m\n\u001b[0;32m    244\u001b[0m     \u001b[1;32mdef\u001b[0m \u001b[0m_value_or_default\u001b[0m\u001b[1;33m(\u001b[0m\u001b[0mself\u001b[0m\u001b[1;33m,\u001b[0m \u001b[0mobj\u001b[0m\u001b[1;33m,\u001b[0m \u001b[0mkey\u001b[0m\u001b[1;33m,\u001b[0m \u001b[0mdefault\u001b[0m\u001b[1;33m)\u001b[0m\u001b[1;33m:\u001b[0m\u001b[1;33m\u001b[0m\u001b[1;33m\u001b[0m\u001b[0m\n",
      "\u001b[1;31mNoSuchElementException\u001b[0m: Message: no such element: Unable to locate element: {\"method\":\"xpath\",\"selector\":\"//div[@id='tablepress-48']/tbody\"}\n  (Session info: chrome=88.0.4324.190)\n"
     ]
    }
   ],
   "source": [
    "body=driver4.find_element_by_xpath(\"//div[@id='tablepress-48']/tbody\")\n",
    "body.text"
   ]
  },
  {
   "cell_type": "markdown",
   "metadata": {},
   "source": [
    "# question 7 assignement 3"
   ]
  },
  {
   "cell_type": "code",
   "execution_count": 69,
   "metadata": {},
   "outputs": [],
   "source": [
    "driver5=webdriver.Chrome(executable_path='C:/chromedriver/chromedriver.exe')"
   ]
  },
  {
   "cell_type": "code",
   "execution_count": 70,
   "metadata": {},
   "outputs": [],
   "source": [
    "driver5.get('https://www.digit.in/top-products/top-10-laptops-5.html')"
   ]
  },
  {
   "cell_type": "code",
   "execution_count": 74,
   "metadata": {},
   "outputs": [
    {
     "data": {
      "text/plain": [
       "'PRODUCT NAME SELLER PRICE\\nApple MacBook Pro 13-inch amazon ₹119900\\nHP Omen 15 (R7) amazon ₹141900\\nHP Envy 15 amazon ₹126999\\nApple MacBook Pro 16-inch amazon ₹189900\\nLenovo IdeaPad Flex 5 amazon ₹62900\\nDell XPS 15 N/A N/A\\nApple MacBook Air amazon ₹102990\\nDell XPS 13 amazon ₹149990\\nASUS ROG Zephyrus G14 amazon ₹164990\\nLenovo ThinkPad X1 Extreme amazon ₹224545'"
      ]
     },
     "execution_count": 74,
     "metadata": {},
     "output_type": "execute_result"
    }
   ],
   "source": [
    "top10=driver5.find_element_by_id('summtable')\n",
    "top10.text"
   ]
  },
  {
   "cell_type": "markdown",
   "metadata": {},
   "source": [
    "i am not able to perform question1 and 2 and in other i am not able to extract the list out of different website and webpages."
   ]
  },
  {
   "cell_type": "code",
   "execution_count": null,
   "metadata": {},
   "outputs": [],
   "source": []
  }
 ],
 "metadata": {
  "kernelspec": {
   "display_name": "Python 3",
   "language": "python",
   "name": "python3"
  },
  "language_info": {
   "codemirror_mode": {
    "name": "ipython",
    "version": 3
   },
   "file_extension": ".py",
   "mimetype": "text/x-python",
   "name": "python",
   "nbconvert_exporter": "python",
   "pygments_lexer": "ipython3",
   "version": "3.8.3"
  }
 },
 "nbformat": 4,
 "nbformat_minor": 4
}
